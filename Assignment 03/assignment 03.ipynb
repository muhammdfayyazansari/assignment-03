{
 "cells": [
  {
   "cell_type": "code",
   "execution_count": 5,
   "metadata": {},
   "outputs": [
    {
     "name": "stdout",
     "output_type": "stream",
     "text": [
      "Twinkle, twinkle, little star, \n",
      "\tHow I wonder what you are!  \n",
      "\t \t Up above the world so high, \n",
      "\t \t Like a diamond in the sky.  \n",
      "Twinkle, twinkle, little star,  \n",
      "\tHow I wonder what you are\n"
     ]
    }
   ],
   "source": [
    "print(\"\"\"Twinkle, twinkle, little star, \n",
    "\\tHow I wonder what you are!  \n",
    "\\t \\t Up above the world so high, \n",
    "\\t \\t Like a diamond in the sky.  \n",
    "Twinkle, twinkle, little star,  \n",
    "\\tHow I wonder what you are\"\"\")"
   ]
  },
  {
   "cell_type": "code",
   "execution_count": 16,
   "metadata": {},
   "outputs": [
    {
     "name": "stdout",
     "output_type": "stream",
     "text": [
      "3.10.0\n"
     ]
    }
   ],
   "source": [
    "\n",
    "    import platform\n",
    "    print(platform.python_version())\n",
    "\n",
    "\n"
   ]
  },
  {
   "cell_type": "code",
   "execution_count": 26,
   "metadata": {},
   "outputs": [
    {
     "name": "stdout",
     "output_type": "stream",
     "text": [
      "Today's date: 2021-10-22\n"
     ]
    }
   ],
   "source": [
    "from datetime import date\n",
    "\n",
    "myday = date.today()\n",
    "print(\"Today's date:\", myday)"
   ]
  },
  {
   "cell_type": "code",
   "execution_count": 27,
   "metadata": {},
   "outputs": [
    {
     "name": "stdout",
     "output_type": "stream",
     "text": [
      "78.57142857142857\n"
     ]
    }
   ],
   "source": [
    "user = int(input(\"Enter radius for calculate the value of Area\"));\n",
    "area= (22/7)*(user**2);\n",
    "print(area);"
   ]
  },
  {
   "cell_type": "code",
   "execution_count": 30,
   "metadata": {},
   "outputs": [
    {
     "name": "stdout",
     "output_type": "stream",
     "text": [
      "Total Marks =  500\n",
      "Obtained Marks = 225\n",
      "Your Percentage =  45.0 %\n",
      "Your Grade is =  D\n",
      "Keep You work Hard \n",
      " Sorry You are not eligible for Next Module \n",
      " Better Luck Next Time\n"
     ]
    }
   ],
   "source": [
    "physics= int(input(\"Enter your Physics marks\"));\n",
    "chemistry = int(input(\"Enter you Chemistry marks\"));\n",
    "islamiat= int(input(\"Enter you Islamiat marks\"));\n",
    "english=int(input(\"Enter you English marks\"));\n",
    "math=int(input(\"Enter you Math marks\"));\n",
    "check = True;\n",
    "if(physics<0 or physics>100) or (chemistry<0 or chemistry>100) or (islamiat<0 or islamiat>100) or (english<0 or english>100) or (math<0 or math>100):\n",
    "    check = False;\n",
    "    print(\"Please Enter correct information\")\n",
    "    if physics<0 or physics>100:\n",
    "        print(\"Physics = \" ,physics , \" x \");\n",
    "    else:\n",
    "        print(\"Physics = \" ,physics );\n",
    "    if chemistry<0 or chemistry>100:\n",
    "        print(\"Chemistry = \" ,chemistry , \" x \");\n",
    "    else:\n",
    "        print(\"Chemistry = \" ,chemistry );\n",
    "    if islamiat<0 or islamiat>100:\n",
    "        print(\"Islamiat = \" ,islamiat , \" x \");\n",
    "    else:\n",
    "        print(\"Islamiat = \" ,islamiat );\n",
    "    \n",
    "    if english<0 or english>100:\n",
    "        print(\"English = \" ,english , \" x \");\n",
    "    else:\n",
    "        print(\"English = \" ,english );\n",
    "    if math<0 or math>100:\n",
    "        print(\"Math = \" ,math , \" x \");\n",
    "    else:\n",
    "        print(\"Math = \" ,math );\n",
    "\n",
    "\n",
    "\n",
    "obtained_marks=physics+chemistry+islamiat+english+math;\n",
    "total=500;\n",
    "percentage=(obtained_marks/total)*100;\n",
    "greeting =\"\";\n",
    "grade=\"\";\n",
    "if percentage < 100 and percentage>=80:\n",
    "   grade=\"A-One\";\n",
    "elif percentage < 80 and percentage>=70:\n",
    "    grade=\"A\";\n",
    "elif percentage < 70 and percentage>=60:\n",
    "    grade=\"B\";\n",
    "elif percentage < 60 and percentage>=50:\n",
    "    grade = \"C\";\n",
    "elif percentage < 50 and percentage>=40:\n",
    "    grade =\"D\";\n",
    "elif percentage < 40 and percentage>=34:\n",
    "    grade = \"E\";\n",
    "elif percentage < 34 and percentage>=0:\n",
    "    grade = \"F\";\n",
    "# else:\n",
    "#     check = False;\n",
    "#     print(\"Please Enter correct information\")\n",
    "#     if physics<0 or physics>100:\n",
    "#         print(\"Physics = \" ,physics , \" x \");\n",
    "#     if chemistry<0 or chemistry>100:\n",
    "#         print(\"Chemistry = \" ,chemistry , \" x \");\n",
    "#     if islamiat<0 or islamiat>100:\n",
    "#         print(\"Islamiat = \" ,islamiat , \" x \");\n",
    "#     if english<0 or english>100:\n",
    "#         print(\"English = \" ,english , \" x \");\n",
    "#     if math<0 or math>100:\n",
    "#         print(\"Math = \" ,math , \" x \");    \n",
    "if grade ==\"A-One\":\n",
    "    greeting =\"Excellent Work and Keep It up \\n Congratulations! You are eligible for Next Module\";\n",
    "elif grade == \"A\":\n",
    "    greeting = \"Good Work and Keep It up \\n Congratulations! You are eligible for Next Module\";\n",
    "elif grade == \"B\":\n",
    "    greeting=\"Keep It up \\n You are eligible for Next Module\";\n",
    "elif grade == \"C\":\n",
    "    greeting = \"Keep You work Hard \\n Sorry You are not eligible for Next Module \\n Better Luck Next Time\";\n",
    "elif grade == \"D\":\n",
    "    greeting = \"Keep You work Hard \\n Sorry You are not eligible for Next Module \\n Better Luck Next Time\";\n",
    "elif grade == \"E\":\n",
    "    greeting = \"Keep You work Hard \\n Sorry You are not eligible for Next Module \\n Better Luck Next Time\";\n",
    "elif grade == \"F\":\n",
    "    greeting = \"Keep You work Hard \\n Sorry You are not eligible for Next Module \\n Better Luck Next Time\";\n",
    "if check:\n",
    "    print(\"Total Marks = \",total);\n",
    "    print(\"Obtained Marks =\",obtained_marks);\n",
    "    print(\"Your Percentage = \",percentage,\"%\");\n",
    "    print(\"Your Grade is = \",grade);\n",
    "    print(greeting);\n",
    "\n",
    "   \n"
   ]
  },
  {
   "cell_type": "code",
   "execution_count": 34,
   "metadata": {},
   "outputs": [
    {
     "name": "stdout",
     "output_type": "stream",
     "text": [
      "45  is an odd number\n"
     ]
    }
   ],
   "source": [
    "user = int(input(\"Please enter a number for check its even or odd \"));\n",
    "check = user%2;\n",
    "if check ==1 :\n",
    "    print(user ,\" is an odd number\");\n",
    "else:\n",
    "    print(user ,\" is an Even number\");"
   ]
  },
  {
   "cell_type": "code",
   "execution_count": 37,
   "metadata": {},
   "outputs": [
    {
     "name": "stdout",
     "output_type": "stream",
     "text": [
      "8\n"
     ]
    }
   ],
   "source": [
    "user = [2332, 3,\"fayyaz\",3,3,3,3,3];\n",
    "print(len(user));"
   ]
  },
  {
   "cell_type": "code",
   "execution_count": 54,
   "metadata": {},
   "outputs": [
    {
     "name": "stdout",
     "output_type": "stream",
     "text": [
      "2350\n"
     ]
    }
   ],
   "source": [
    "user = [2332, 3,\"fayyaz\",3,3,3,3,3];\n",
    "b = 0;\n",
    "for a in user :\n",
    "    if type(a) == type(b):\n",
    "        b= b+a;\n",
    "print(b);\n"
   ]
  },
  {
   "cell_type": "code",
   "execution_count": 64,
   "metadata": {},
   "outputs": [
    {
     "name": "stdout",
     "output_type": "stream",
     "text": [
      "2332\n"
     ]
    }
   ],
   "source": [
    "user = [2332,3,1,5,2,8,3,9,4,6,7,3,3,3,3,3];\n",
    "user.sort();\n",
    "list_length = len(user)-1;\n",
    "print(user[list_length]);"
   ]
  },
  {
   "cell_type": "code",
   "execution_count": 65,
   "metadata": {},
   "outputs": [
    {
     "name": "stdout",
     "output_type": "stream",
     "text": [
      "total marks  300\n",
      "Obtained marks 266\n",
      "Your percentage is  88.66666666666667\n",
      "Your grade is A-One\n"
     ]
    }
   ],
   "source": [
    "islamiat=90;\n",
    "english=83;\n",
    "math=93;\n",
    "obtained_marks =islamiat+english+math;\n",
    "total=300;\n",
    "percentage=(obtained_marks/total)*100;\n",
    "if percentage < 100 and percentage >=80:\n",
    "    grade=\"A-One\";\n",
    "elif percentage < 80 and percentage >=70:\n",
    "       grade=\"A\";\n",
    "elif percentage < 70 and percentage >=60:\n",
    "      grade=\"B\";\n",
    "elif percentage < 60 and percentage >= 50:\n",
    "      grade=\"C\";\n",
    "elif percentage < 50 and percentage >=40:\n",
    "      grade=\"D\";\n",
    "elif percentage < 40 and percentage >=30:\n",
    "      grade=\"E\";\n",
    "print(\"total marks \", total);\n",
    "print(\"Obtained marks\", obtained_marks);\n",
    "print(\"Your percentage is \", percentage);\n",
    "print(\"Your grade is\", grade);"
   ]
  }
 ],
 "metadata": {
  "interpreter": {
   "hash": "db1cbbe48d3260c4a094181960d24b961ea3ca879adddc5820e507f0ebc57ac8"
  },
  "kernelspec": {
   "display_name": "Python 3.10.0 64-bit",
   "name": "python3"
  },
  "language_info": {
   "codemirror_mode": {
    "name": "ipython",
    "version": 3
   },
   "file_extension": ".py",
   "mimetype": "text/x-python",
   "name": "python",
   "nbconvert_exporter": "python",
   "pygments_lexer": "ipython3",
   "version": "3.10.0"
  },
  "orig_nbformat": 4
 },
 "nbformat": 4,
 "nbformat_minor": 2
}
