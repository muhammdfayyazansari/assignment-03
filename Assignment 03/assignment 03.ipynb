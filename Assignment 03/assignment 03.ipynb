{
 "cells": [
  {
   "cell_type": "code",
   "execution_count": 2,
   "id": "690e2ed6",
   "metadata": {},
   "outputs": [
    {
     "name": "stdout",
     "output_type": "stream",
     "text": [
      "Twinkle, twinkle, little star, \n",
      "\tHow I wonder what you are!  \n",
      "\t \t Up above the world so high, \n",
      "\t \t Like a diamond in the sky.  \n",
      "Twinkle, twinkle, little star,  \n",
      "\tHow I wonder what you are\n"
     ]
    }
   ],
   "source": [
    "#Question no 01\n",
    "print(\"\"\"Twinkle, twinkle, little star, \n",
    "\\tHow I wonder what you are!  \n",
    "\\t \\t Up above the world so high, \n",
    "\\t \\t Like a diamond in the sky.  \n",
    "Twinkle, twinkle, little star,  \n",
    "\\tHow I wonder what you are\"\"\")"
   ]
  },
  {
   "cell_type": "code",
   "execution_count": 4,
   "id": "95300531",
   "metadata": {},
   "outputs": [
    {
     "name": "stdout",
     "output_type": "stream",
     "text": [
      "3.8.8\n"
     ]
    }
   ],
   "source": [
    "#Question no 02\n",
    "\n",
    "import platform\n",
    "print(platform.python_version())\n"
   ]
  },
  {
   "cell_type": "code",
   "execution_count": 6,
   "id": "09b035b4",
   "metadata": {},
   "outputs": [
    {
     "name": "stdout",
     "output_type": "stream",
     "text": [
      "Current date is 22/10/2021 \n",
      "Current time is 23:42:55\n"
     ]
    }
   ],
   "source": [
    "#Question no 03\n",
    "\n",
    "\n",
    "from datetime import datetime\n",
    "latest_datetime = datetime.now();\n",
    "datetime_informat = latest_datetime.strftime(\"Current date is %d/%m/%Y \\nCurrent time is %H:%M:%S\")\n",
    "print(datetime_informat);\n"
   ]
  },
  {
   "cell_type": "code",
   "execution_count": 7,
   "id": "bbf3e993",
   "metadata": {},
   "outputs": [
    {
     "name": "stdout",
     "output_type": "stream",
     "text": [
      "Enter radius for calculate the value of Area25\n",
      "1964.2857142857142\n"
     ]
    }
   ],
   "source": [
    "#Question no 04\n",
    "\n",
    "user = int(input(\"Enter radius for calculate the value of Area\"));\n",
    "area= (22/7)*(user**2);\n",
    "print(\"Radius of a cirlce is = \",user,\"Area of a circle is = area);"
   ]
  },
  {
   "cell_type": "code",
   "execution_count": 12,
   "id": "3dc16645",
   "metadata": {},
   "outputs": [
    {
     "name": "stdout",
     "output_type": "stream",
     "text": [
      "Enter your first name fayyaz\n",
      "Enter you Last name ansari\n",
      "Your fistName is  fayyaz \n",
      "Your Last Name is  ansari \n",
      "Your reversed fullName is  irasna zayyaf\n"
     ]
    }
   ],
   "source": [
    "#Question no 05\n",
    "firstName = input(\"Enter your first name \");\n",
    "lastName = input(\"Enter you Last name \");\n",
    "fullName = lastName[::-1] +\" \"+ firstName[::-1];\n",
    "print(\"Your fistName is \",firstName,\"\\nYour Last Name is \",lastName,\"\\nYour reversed fullName is \",fullName);\n",
    "\n",
    "firstName1 = input(\"Enter your first name \");\n",
    "lastName1 = input(\"Enter you Last name \");\n",
    "fullName1 = lastName1[::] +\" \"+ firstName1[::];\n",
    "print(\"Your fistName is \",firstName1,\"\\nYour Last Name is \",lastName1,\"\\nYour reversed fullName is \",fullName1);\n",
    "\n",
    "firstName2 = input(\"Enter your first name \");\n",
    "lastName2 = input(\"Enter you Last name  \");\n",
    "fullName2 = firstName2 +\" \"+ lastName2;\n",
    "finalName= fullName2[::-1];\n",
    "print(\"Your fullname is \" fullName2);\n",
    "print(\"Your reversed fullName is finalName);"
   ]
  },
  {
   "cell_type": "code",
   "execution_count": 2,
   "id": "dab51867",
   "metadata": {},
   "outputs": [
    {
     "name": "stdout",
     "output_type": "stream",
     "text": [
      "Enter your number fayyaz\n",
      "Enter you number ansari\n",
      "Addition of two input is  fayyazansari\n"
     ]
    }
   ],
   "source": [
    "#Question no 06\n",
    "\n",
    "user1 = input(\"Enter your number \");\n",
    "user2 = input(\"Enter you number \");\n",
    "print(\"Addition of two input is \", user1+user2);"
   ]
  },
  {
   "cell_type": "code",
   "execution_count": 10,
   "id": "a4729010",
   "metadata": {},
   "outputs": [
    {
     "name": "stdout",
     "output_type": "stream",
     "text": [
      "Enter your Physics marks 45\n",
      "Enter you Chemistry marks 45\n",
      "Enter you Islamiat marks 45\n",
      "Enter you English marks 45\n",
      "Enter you Math marks 45\n",
      "Total Marks =  500\n",
      "Obtained Marks = 225\n",
      "Your Percentage =  45.0 %\n",
      "Your Grade is =  D\n",
      "Keep You work Hard \n",
      " Sorry You are not eligible for Next Module \n",
      " Better Luck Next Time\n"
     ]
    }
   ],
   "source": [
    "#Question no 07\n",
    "\n",
    "physics= int(input(\"Enter your Physics marks \"));\n",
    "chemistry = int(input(\"Enter you Chemistry marks \"));\n",
    "islamiat= int(input(\"Enter you Islamiat marks \"));\n",
    "english=int(input(\"Enter you English marks \"));\n",
    "math=int(input(\"Enter you Math marks \"));\n",
    "check = True;\n",
    "if(physics<0 or physics>100) or (chemistry<0 or chemistry>100) or (islamiat<0 or islamiat>100) or (english<0 or english>100) or (math<0 or math>100):\n",
    "    check = False;\n",
    "    print(\"Please Enter correct information\")\n",
    "    if physics<0 or physics>100:\n",
    "        print(\"Physics = \" ,physics , \" x \");\n",
    "    else:\n",
    "        print(\"Physics = \" ,physics );\n",
    "    if chemistry<0 or chemistry>100:\n",
    "        print(\"Chemistry = \" ,chemistry , \" x \");\n",
    "    else:\n",
    "        print(\"Chemistry = \" ,chemistry );\n",
    "    if islamiat<0 or islamiat>100:\n",
    "        print(\"Islamiat = \" ,islamiat , \" x \");\n",
    "    else:\n",
    "        print(\"Islamiat = \" ,islamiat );\n",
    "    \n",
    "    if english<0 or english>100:\n",
    "        print(\"English = \" ,english , \" x \");\n",
    "    else:\n",
    "        print(\"English = \" ,english );\n",
    "    if math<0 or math>100:\n",
    "        print(\"Math = \" ,math , \" x \");\n",
    "    else:\n",
    "        print(\"Math = \" ,math );\n",
    "\n",
    "\n",
    "\n",
    "obtained_marks=physics+chemistry+islamiat+english+math;\n",
    "total=500;\n",
    "percentage=(obtained_marks/total)*100;\n",
    "greeting =\"\";\n",
    "grade=\"\";\n",
    "if percentage < 100 and percentage>=80:\n",
    "   grade=\"A-One\";\n",
    "elif percentage < 80 and percentage>=70:\n",
    "    grade=\"A\";\n",
    "elif percentage < 70 and percentage>=60:\n",
    "    grade=\"B\";\n",
    "elif percentage < 60 and percentage>=50:\n",
    "    grade = \"C\";\n",
    "elif percentage < 50 and percentage>=40:\n",
    "    grade =\"D\";\n",
    "elif percentage < 40 and percentage>=34:\n",
    "    grade = \"E\";\n",
    "elif percentage < 34 and percentage>=0:\n",
    "    grade = \"F\";\n",
    "   \n",
    "if grade ==\"A-One\":\n",
    "    greeting =\"Excellent Work and Keep It up \\n Congratulations! You are eligible for Next Module\";\n",
    "elif grade == \"A\":\n",
    "    greeting = \"Good Work and Keep It up \\n Congratulations! You are eligible for Next Module\";\n",
    "elif grade == \"B\":\n",
    "    greeting=\"Keep It up \\n You are eligible for Next Module\";\n",
    "elif grade == \"C\":\n",
    "    greeting = \"Keep You work Hard \\n Sorry You are not eligible for Next Module \\n Better Luck Next Time\";\n",
    "elif grade == \"D\":\n",
    "    greeting = \"Keep You work Hard \\n Sorry You are not eligible for Next Module \\n Better Luck Next Time\";\n",
    "elif grade == \"E\":\n",
    "    greeting = \"Keep You work Hard \\n Sorry You are not eligible for Next Module \\n Better Luck Next Time\";\n",
    "elif grade == \"F\":\n",
    "    greeting = \"Keep You work Hard \\n Sorry You are not eligible for Next Module \\n Better Luck Next Time\";\n",
    "if check:\n",
    "    print(\"Total Marks = \",total);\n",
    "    print(\"Obtained Marks =\",obtained_marks);\n",
    "    print(\"Your Percentage = \",percentage,\"%\");\n",
    "    print(\"Your Grade is = \",grade);\n",
    "    print(greeting);\n",
    "\n",
    "   \n"
   ]
  },
  {
   "cell_type": "code",
   "execution_count": 12,
   "id": "e7790c0a",
   "metadata": {},
   "outputs": [
    {
     "name": "stdout",
     "output_type": "stream",
     "text": [
      "Please enter a number for check its even or odd 40\n",
      "40  is an Even number\n"
     ]
    }
   ],
   "source": [
    "#Question no 08\n",
    "\n",
    "user = int(input(\"Please enter a number for check its even or odd \"));\n",
    "check = user%2;\n",
    "if check ==1 :\n",
    "    print(user ,\" is an odd number\");\n",
    "else:\n",
    "    print(user ,\" is an Even number\");"
   ]
  },
  {
   "cell_type": "code",
   "execution_count": 13,
   "id": "5bdba5b9",
   "metadata": {},
   "outputs": [
    {
     "name": "stdout",
     "output_type": "stream",
     "text": [
      "8\n"
     ]
    }
   ],
   "source": [
    "#Question no 09\n",
    "user = [2332, 3,3,3,3,3,3,3];\n",
    "print(len(user));"
   ]
  },
  {
   "cell_type": "code",
   "execution_count": 18,
   "id": "cc70207a",
   "metadata": {},
   "outputs": [
    {
     "name": "stdout",
     "output_type": "stream",
     "text": [
      "55\n"
     ]
    }
   ],
   "source": [
    "#Question no 10\n",
    "user = [1,2, 3,\"fayyaz\",4,5,6,7,8,9,10];\n",
    "b = 0;\n",
    "for a in user :\n",
    "    if type(a) == type(b):\n",
    "        b= b+a;\n",
    "print(b);"
   ]
  },
  {
   "cell_type": "code",
   "execution_count": 21,
   "id": "b4054219",
   "metadata": {},
   "outputs": [
    {
     "name": "stdout",
     "output_type": "stream",
     "text": [
      "The Largest number of this numeric list is  2332\n"
     ]
    }
   ],
   "source": [
    "#Question no 11\n",
    "user = [2332,3,1,5,2,8,3,9,4,6,7,3,3,3,3,3];\n",
    "user.sort();\n",
    "list_length = len(user)-1;\n",
    "print(\"The Largest number of this numeric list is \",user[list_length]);"
   ]
  },
  {
   "cell_type": "code",
   "execution_count": 25,
   "id": "d8ad44d1",
   "metadata": {},
   "outputs": [
    {
     "name": "stdout",
     "output_type": "stream",
     "text": [
      "1\n",
      "1\n",
      "2\n",
      "3\n"
     ]
    }
   ],
   "source": [
    "#Question no 12 \n",
    "a = [1, 1, 2, 3, 5, 8, 13, 21, 34, 55, 89];\n",
    "for n in a :\n",
    "    if n<5:\n",
    "        print(n);\n"
   ]
  }
 ],
 "metadata": {
  "kernelspec": {
   "display_name": "Python 3",
   "language": "python",
   "name": "python3"
  },
  "language_info": {
   "codemirror_mode": {
    "name": "ipython",
    "version": 3
   },
   "file_extension": ".py",
   "mimetype": "text/x-python",
   "name": "python",
   "nbconvert_exporter": "python",
   "pygments_lexer": "ipython3",
   "version": "3.8.8"
  }
 },
 "nbformat": 4,
 "nbformat_minor": 5
}
